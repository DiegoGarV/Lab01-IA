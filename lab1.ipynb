{
 "cells": [
  {
   "cell_type": "markdown",
   "metadata": {},
   "source": [
    "LABORATORIO 1 - INTELIGENCIA ARTIFICIAL\n",
    "Diego García 22404\n",
    "César López 22838"
   ]
  },
  {
   "cell_type": "markdown",
   "metadata": {},
   "source": [
    "# TASK 1  \n",
    " ### - PREGUNTA 1\n",
    "Considera un modelo de regresión lineal con dos características, X₁ y X₂, y sus pesos correspondientes w₁ y w₂. \n",
    "Si el modelo predice una salida y mediante la ecuación y = 2w₁X₁ + 3w₂X₂ + 1, ¿cuál es la interpretación del coeficiente 3w₂ en el contexto del modelo?\n",
    "\n",
    "- RESPUESTA:\n",
    "3w₂ representa el cambio que recibe y cuando X₂ va cambiando sus valores. Esto significa que mientras mayor sea el valor de 3w₂ mayor será el valor final de y con cada valor distinto de X₂.\n",
    "\n",
    "\n",
    "### - PREGUNTA 2  \n",
    "Explica el concepto de multicolinealidad en el contexto de la regresión lineal. ¿Cómo afecta la\n",
    "multicolinealidad a la interpretación de los coeficientes de regresión individuales?\n",
    "\n",
    "- RESPUESTA:\n",
    "Es cuando dos o mas variables predictoras estan altamente correlacionadas entre si, lo que implica que existe una redundancia en la informacion analizada, de donde se obtienen estas variables. Esto puede llegar a afectar aumentando el cesgo de las predicciones que realiza el modelo fuera del contexto con el que fue entrenado. Tambien el modelo puede llegar a confundir en cual es la variable que influye en la otra."
   ]
  },
  {
   "cell_type": "markdown",
   "metadata": {},
   "source": [
    "TASK 2 - CLASIFICACIÓN DE SITIOS DE PHISHING\n",
    "\n",
    "Descargar el dataset de: https://www.kaggle.com/datasets/shashwatwork/web-page-phishing-detection-dataset \n"
   ]
  },
  {
   "cell_type": "code",
   "execution_count": 1,
   "metadata": {},
   "outputs": [],
   "source": [
    "#Librerías para cargar los datos\n",
    "\n",
    "import pandas as pd\n",
    "import numpy as np"
   ]
  },
  {
   "cell_type": "code",
   "execution_count": null,
   "metadata": {},
   "outputs": [],
   "source": [
    "dataset = "
   ]
  },
  {
   "cell_type": "markdown",
   "metadata": {},
   "source": [
    "# TASK 2 - 2.2 - NO LIBRERIAS"
   ]
  },
  {
   "cell_type": "code",
   "execution_count": 76,
   "metadata": {},
   "outputs": [],
   "source": [
    "import pandas as pd\n",
    "import numpy as np\n",
    "import altair as alt\n",
    "import matplotlib.pyplot as plt\n",
    "import plotly.express as px\n"
   ]
  },
  {
   "cell_type": "code",
   "execution_count": 77,
   "metadata": {},
   "outputs": [],
   "source": [
    "def prepare_file(dataset_path: str) -> pd.DataFrame:\n",
    "    dataset = pd.read_csv(dataset_path)\n",
    "    dataset[\"status\"] = dataset[\"status\"].map({\"phishing\": 1, \"legitimate\": 0})\n",
    "    return dataset.drop(\"url\", axis=1)\n"
   ]
  },
  {
   "cell_type": "code",
   "execution_count": 78,
   "metadata": {},
   "outputs": [],
   "source": [
    "def split_dataset(dataset: pd.DataFrame, frac: float = 0.8, random_state: int = 42):\n",
    "    train = dataset.sample(frac=frac, random_state=random_state)\n",
    "    test = dataset.drop(train.index)\n",
    "    return train, test\n",
    "\n"
   ]
  },
  {
   "cell_type": "code",
   "execution_count": 79,
   "metadata": {},
   "outputs": [],
   "source": [
    "def KNN(\n",
    "    x_train: pd.DataFrame, y_train: pd.Series, x_test: pd.DataFrame, vecinosCant: int\n",
    ") -> list:\n",
    "    y_pred = []\n",
    "    x_train = x_train.to_numpy()\n",
    "    x_test = x_test.to_numpy()\n",
    "    for x in x_test:\n",
    "        distances = np.sqrt(((x_train - x) ** 2).sum(axis=1))\n",
    "        k_nearest = np.argpartition(distances, vecinosCant)[:vecinosCant]\n",
    "        k_nearest_labels = y_train.iloc[k_nearest]\n",
    "        y_pred.append(k_nearest_labels.value_counts().idxmax())\n",
    "    return y_pred\n"
   ]
  },
  {
   "cell_type": "code",
   "execution_count": 80,
   "metadata": {},
   "outputs": [],
   "source": [
    "def Metrics(test_y: np.ndarray, y_pred: np.ndarray) -> dict:\n",
    "    TP = np.sum((test_y == 1) & (y_pred == 1))\n",
    "    FP = np.sum((test_y == 0) & (y_pred == 1))\n",
    "\n",
    "    precision = TP / (TP + FP) if (TP + FP) > 0 else 0\n",
    "\n",
    "    return {\"precision\": precision}\n"
   ]
  },
  {
   "cell_type": "code",
   "execution_count": 81,
   "metadata": {},
   "outputs": [],
   "source": [
    "def Graphic(test_x, test_y, y_pred):\n",
    "    results_df = test_x.copy()\n",
    "    results_df[\"Real\"] = test_y\n",
    "    results_df[\"Predicho\"] = y_pred\n",
    "    results_df[\"Correcto\"] = results_df[\"Real\"] == results_df[\"Predicho\"]\n",
    "\n",
    "    fig = px.scatter(\n",
    "        results_df,\n",
    "        x=\"length_url\",\n",
    "        y=\"length_hostname\",\n",
    "        color=\"Correcto\",\n",
    "        symbol=\"Real\",\n",
    "        color_discrete_map={True: \"green\", False: \"red\"},\n",
    "        title=\"Clasificación de KNN con Plotly\",\n",
    "        labels={\n",
    "            \"length_url\": \"Longitud del URL\",\n",
    "            \"length_hostname\": \"Longitud del Hostname\",\n",
    "        },\n",
    "    )\n",
    "\n",
    "    fig.update_traces(marker=dict(size=12))\n",
    "    fig.show()\n",
    "\n"
   ]
  },
  {
   "cell_type": "code",
   "execution_count": null,
   "metadata": {},
   "outputs": [],
   "source": [
    "dataset_path = \"./dataset_phishing.csv\"\n",
    "dataset = prepare_file(dataset_path)\n",
    "\n",
    "train, test = split_dataset(dataset)\n",
    "\n",
    "train_y = train.pop(\"status\")\n",
    "train_x = train\n",
    "test_y = test.pop(\"status\")\n",
    "test_x = test\n",
    "\n",
    "prediction = KNN(train_x, train_y, test_x, 3)\n",
    "\n",
    "metrics = Metrics(test_y.to_numpy(), np.array(prediction))\n",
    "print(f\"Precision metric: {metrics['precision']:.2f}\")\n",
    "\n",
    "Graphic(test_x, test_y.to_numpy(), np.array(prediction))"
   ]
  },
  {
   "cell_type": "markdown",
   "metadata": {},
   "source": [
    "# TASK 2.2 - CON LIBRERIA"
   ]
  },
  {
   "cell_type": "code",
   "execution_count": 1,
   "metadata": {},
   "outputs": [],
   "source": [
    "from sklearn.model_selection import train_test_split\n",
    "from sklearn.neighbors import KNeighborsClassifier\n",
    "from sklearn.metrics import accuracy_score, precision_score, recall_score, classification_report\n",
    "import pandas as pd"
   ]
  },
  {
   "cell_type": "code",
   "execution_count": 2,
   "metadata": {},
   "outputs": [],
   "source": [
    "def prepare_file_sklearn(dataset_path: str) -> pd.DataFrame:\n",
    "    dataset = pd.read_csv(dataset_path)\n",
    "    dataset[\"status\"] = dataset[\"status\"].map({\"phishing\": 1, \"legitimate\": 0})\n",
    "    dataset = dataset.drop(\"url\", axis=1)\n",
    "    return dataset"
   ]
  },
  {
   "cell_type": "code",
   "execution_count": 3,
   "metadata": {},
   "outputs": [],
   "source": [
    "dataset_path = \"./dataset_phishing.csv\"\n",
    "dataset = prepare_file_sklearn(dataset_path)\n",
    "\n",
    "X = dataset.drop(\"status\", axis=1)\n",
    "y = dataset[\"status\"]\n",
    "\n",
    "\n",
    "X_train, X_test, y_train, y_test = train_test_split(X, y, test_size=0.2, random_state=42)\n"
   ]
  },
  {
   "cell_type": "code",
   "execution_count": 4,
   "metadata": {},
   "outputs": [],
   "source": [
    "\n",
    "k = 3\n",
    "knn_model = KNeighborsClassifier(n_neighbors=k)\n",
    "knn_model.fit(X_train, y_train)\n",
    "\n",
    "y_pred = knn_model.predict(X_test)\n"
   ]
  },
  {
   "cell_type": "code",
   "execution_count": 5,
   "metadata": {},
   "outputs": [
    {
     "name": "stdout",
     "output_type": "stream",
     "text": [
      "Resultados con Scikit-learn:\n",
      "Accuracy (Exactitud): 0.84\n",
      "Precision (Precisión): 0.82\n",
      "Recall (Sensibilidad): 0.86\n",
      "\n",
      "Reporte de clasificación:\n",
      "              precision    recall  f1-score   support\n",
      "\n",
      "           0       0.85      0.82      0.84      1157\n",
      "           1       0.82      0.86      0.84      1129\n",
      "\n",
      "    accuracy                           0.84      2286\n",
      "   macro avg       0.84      0.84      0.84      2286\n",
      "weighted avg       0.84      0.84      0.84      2286\n",
      "\n"
     ]
    }
   ],
   "source": [
    "\n",
    "accuracy = accuracy_score(y_test, y_pred)\n",
    "precision = precision_score(y_test, y_pred)\n",
    "recall = recall_score(y_test, y_pred)\n",
    "\n",
    "print(\"Resultados con Scikit-learn:\")\n",
    "print(f\"Accuracy (Exactitud): {accuracy:.2f}\")\n",
    "print(f\"Precision (Precisión): {precision:.2f}\")\n",
    "print(f\"Recall (Sensibilidad): {recall:.2f}\")\n",
    "print(\"\\nReporte de clasificación:\")\n",
    "print(classification_report(y_test, y_pred))"
   ]
  },
  {
   "cell_type": "markdown",
   "metadata": {},
   "source": [
    "### Cual implementacion fue mejor? Por que? \n",
    "\n",
    "- Usando ambas formas para entrenar el modelo, nos dimos cuenta que la implementación con Scikit-learn fue mejor. Fue mucho más rápida y sencilla de escribir, ya que la librería se encarga de casi todo el trabajo pesado (tomando en cuenta que despues de haberlo intentado hacer *from scratch* me hizo pensar mas facil en la estructura del codigo ya con la libreria). Scikit-learn es más práctica y confiable para obtener resultados precisos y en menos tiempo. Además, facilita el análisis y la comparación de resultados. Al ser la sintaxis mas amigable y literal, ayuda bastante relacionar los proceso del algoritmo como algo toerico a la implementacion en el desarrollo de un programa. Algo bueno de haberlo hecho paso a paso, o sin librerias, es que me ayudo a aclarar un poco las dudas que tenia sobre el algoritmo."
   ]
  }
 ],
 "metadata": {
  "kernelspec": {
   "display_name": "IAvenv",
   "language": "python",
   "name": "python3"
  },
  "language_info": {
   "codemirror_mode": {
    "name": "ipython",
    "version": 3
   },
   "file_extension": ".py",
   "mimetype": "text/x-python",
   "name": "python",
   "nbconvert_exporter": "python",
   "pygments_lexer": "ipython3",
   "version": "3.11.9"
  }
 },
 "nbformat": 4,
 "nbformat_minor": 2
}
