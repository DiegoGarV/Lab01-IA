{
 "cells": [
  {
   "cell_type": "markdown",
   "metadata": {},
   "source": [
    "LABORATORIO 1 - INTELIGENCIA ARTIFICIAL\n",
    "Diego García 22404\n",
    "César López 22838"
   ]
  },
  {
   "cell_type": "markdown",
   "metadata": {},
   "source": [
    "# TASK 1  \n",
    " ### - PREGUNTA 1\n",
    "Considera un modelo de regresión lineal con dos características, X₁ y X₂, y sus pesos correspondientes w₁ y w₂. \n",
    "Si el modelo predice una salida y mediante la ecuación y = 2w₁X₁ + 3w₂X₂ + 1, ¿cuál es la interpretación del coeficiente 3w₂ en el contexto del modelo?\n",
    "\n",
    "- RESPUESTA:\n",
    "3w₂ representa el cambio que recibe y cuando X₂ va cambiando sus valores. Esto significa que mientras mayor sea el valor de 3w₂ mayor será el valor final de y con cada valor distinto de X₂.\n",
    "\n",
    "\n",
    "### - PREGUNTA 2  \n",
    "Explica el concepto de multicolinealidad en el contexto de la regresión lineal. ¿Cómo afecta la\n",
    "multicolinealidad a la interpretación de los coeficientes de regresión individuales?\n",
    "\n",
    "- RESPUESTA:\n",
    "Es cuando dos o mas variables predictoras estan altamente correlacionadas entre si, lo que implica que existe una redundancia en la informacion analizada, de donde se obtienen estas variables. Esto puede llegar a afectar aumentando el cesgo de las predicciones que realiza el modelo fuera del contexto con el que fue entrenado. Tambien el modelo puede llegar a confundir en cual es la variable que influye en la otra."
   ]
  },
  {
   "cell_type": "markdown",
   "metadata": {},
   "source": [
    "TASK 2 - CLASIFICACIÓN DE SITIOS DE PHISHING\n",
    "\n",
    "Descargar el dataset de: https://www.kaggle.com/datasets/shashwatwork/web-page-phishing-detection-dataset \n"
   ]
  },
  {
   "cell_type": "code",
   "execution_count": null,
   "metadata": {},
   "outputs": [],
   "source": [
    "#Librerías para cargar los datos\n",
    "\n",
    "import pandas as pd\n",
    "import numpy as np"
   ]
  },
  {
   "cell_type": "code",
   "execution_count": null,
   "metadata": {},
   "outputs": [],
   "source": [
    "dataset = "
   ]
  }
 ],
 "metadata": {
  "kernelspec": {
   "display_name": "Python 3",
   "language": "python",
   "name": "python3"
  },
  "language_info": {
   "name": "python",
   "version": "3.10.11"
  }
 },
 "nbformat": 4,
 "nbformat_minor": 2
}
