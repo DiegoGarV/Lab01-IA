{
 "cells": [
  {
   "cell_type": "markdown",
   "metadata": {},
   "source": [
    "LABORATORIO 1 - INTELIGENCIA ARTIFICIAL\n",
    "Diego García 22404\n",
    "César López 22838"
   ]
  },
  {
   "cell_type": "markdown",
   "metadata": {},
   "source": [
    "TASK 1 - PREGUNTA 1\n",
    "Considera un modelo de regresión lineal con dos características, X₁ y X₂, y sus pesos correspondientes w₁ y w₂. \n",
    "Si el modelo predice una salida y mediante la ecuación y = 2w₁X₁ + 3w₂X₂ + 1, ¿cuál es la interpretación del coeficiente 3w₂ en el contexto del modelo?\n",
    "\n",
    "RESPUESTA:\n",
    "3w₂ representa el cambio que recibe y cuando X₂ va cambiando sus valores. Esto significa que mientras mayor sea el valor de 3w₂ mayor será el valor final de y con cada valor distinto de X₂."
   ]
  }
 ],
 "metadata": {
  "kernelspec": {
   "display_name": "Python 3",
   "language": "python",
   "name": "python3"
  },
  "language_info": {
   "name": "python",
   "version": "3.10.11"
  }
 },
 "nbformat": 4,
 "nbformat_minor": 2
}
