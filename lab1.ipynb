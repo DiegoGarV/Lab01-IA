{
 "cells": [
  {
   "cell_type": "markdown",
   "metadata": {},
   "source": [
    "LABORATORIO 1 - INTELIGENCIA ARTIFICIAL\n",
    "Diego García 22404\n",
    "César López 22838"
   ]
  },
  {
   "cell_type": "markdown",
   "metadata": {},
   "source": [
    "# TASK 1  \n",
    " ### - PREGUNTA 1\n",
    "Considera un modelo de regresión lineal con dos características, X₁ y X₂, y sus pesos correspondientes w₁ y w₂. \n",
    "Si el modelo predice una salida y mediante la ecuación y = 2w₁X₁ + 3w₂X₂ + 1, ¿cuál es la interpretación del coeficiente 3w₂ en el contexto del modelo?\n",
    "\n",
    "- RESPUESTA:\n",
    "3w₂ representa el cambio que recibe y cuando X₂ va cambiando sus valores. Esto significa que mientras mayor sea el valor de 3w₂ mayor será el valor final de y con cada valor distinto de X₂.\n",
    "\n",
    "\n",
    "### - PREGUNTA 2  \n",
    "Explica el concepto de multicolinealidad en el contexto de la regresión lineal. ¿Cómo afecta la\n",
    "multicolinealidad a la interpretación de los coeficientes de regresión individuales?\n",
    "\n",
    "- RESPUESTA:\n",
    "Es cuando dos o mas variables predictoras estan altamente correlacionadas entre si, lo que implica que existe una redundancia en la informacion analizada, de donde se obtienen estas variables. Esto puede llegar a afectar aumentando el cesgo de las predicciones que realiza el modelo fuera del contexto con el que fue entrenado. Tambien el modelo puede llegar a confundir en cual es la variable que influye en la otra."
   ]
  },
  {
   "cell_type": "markdown",
   "metadata": {},
   "source": [
    "TASK 2 - CLASIFICACIÓN DE SITIOS DE PHISHING\n",
    "\n",
    "Descargar el dataset de: https://www.kaggle.com/datasets/shashwatwork/web-page-phishing-detection-dataset \n"
   ]
  },
  {
   "cell_type": "code",
   "execution_count": 1,
   "metadata": {},
   "outputs": [],
   "source": [
    "#Librerías para cargar los datos\n",
    "\n",
    "import pandas as pd\n",
    "import numpy as np"
   ]
  },
  {
   "cell_type": "code",
   "execution_count": null,
   "metadata": {},
   "outputs": [],
   "source": [
    "dataset = "
   ]
  },
  {
   "cell_type": "markdown",
   "metadata": {},
   "source": [
    "TASK 2 - 2.2 - NO LIBRERIAS"
   ]
  },
  {
   "cell_type": "code",
   "execution_count": 76,
   "metadata": {},
   "outputs": [],
   "source": [
    "import pandas as pd\n",
    "import numpy as np\n",
    "import altair as alt\n",
    "import matplotlib.pyplot as plt\n",
    "import plotly.express as px\n"
   ]
  },
  {
   "cell_type": "code",
   "execution_count": 77,
   "metadata": {},
   "outputs": [],
   "source": [
    "def prepare_file(dataset_path: str) -> pd.DataFrame:\n",
    "    dataset = pd.read_csv(dataset_path)\n",
    "    dataset[\"status\"] = dataset[\"status\"].map({\"phishing\": 1, \"legitimate\": 0})\n",
    "    return dataset.drop(\"url\", axis=1)\n"
   ]
  },
  {
   "cell_type": "code",
   "execution_count": 78,
   "metadata": {},
   "outputs": [],
   "source": [
    "def split_dataset(dataset: pd.DataFrame, frac: float = 0.8, random_state: int = 42):\n",
    "    train = dataset.sample(frac=frac, random_state=random_state)\n",
    "    test = dataset.drop(train.index)\n",
    "    return train, test\n",
    "\n"
   ]
  },
  {
   "cell_type": "code",
   "execution_count": 79,
   "metadata": {},
   "outputs": [],
   "source": [
    "def KNN(\n",
    "    x_train: pd.DataFrame, y_train: pd.Series, x_test: pd.DataFrame, vecinosCant: int\n",
    ") -> list:\n",
    "    y_pred = []\n",
    "    x_train = x_train.to_numpy()\n",
    "    x_test = x_test.to_numpy()\n",
    "    for x in x_test:\n",
    "        distances = np.sqrt(((x_train - x) ** 2).sum(axis=1))\n",
    "        k_nearest = np.argpartition(distances, vecinosCant)[:vecinosCant]\n",
    "        k_nearest_labels = y_train.iloc[k_nearest]\n",
    "        y_pred.append(k_nearest_labels.value_counts().idxmax())\n",
    "    return y_pred\n"
   ]
  },
  {
   "cell_type": "code",
   "execution_count": 80,
   "metadata": {},
   "outputs": [],
   "source": [
    "def Metrics(test_y: np.ndarray, y_pred: np.ndarray) -> dict:\n",
    "    TP = np.sum((test_y == 1) & (y_pred == 1))\n",
    "    TN = np.sum((test_y == 0) & (y_pred == 0))\n",
    "    FP = np.sum((test_y == 0) & (y_pred == 1))\n",
    "    FN = np.sum((test_y == 1) & (y_pred == 0))\n",
    "\n",
    "    accuracy = (TP + TN) / len(test_y) if len(test_y) > 0 else 0\n",
    "    precision = TP / (TP + FP) if (TP + FP) > 0 else 0\n",
    "    recall = TP / (TP + FN) if (TP + FN) > 0 else 0\n",
    "\n",
    "    return {\"accuracy\": accuracy, \"precision\": precision, \"recall\": recall}\n"
   ]
  },
  {
   "cell_type": "code",
   "execution_count": 81,
   "metadata": {},
   "outputs": [],
   "source": [
    "def Graphic(test_x, test_y, y_pred):\n",
    "    results_df = test_x.copy()\n",
    "    results_df[\"Real\"] = test_y\n",
    "    results_df[\"Predicho\"] = y_pred\n",
    "    results_df[\"Correcto\"] = results_df[\"Real\"] == results_df[\"Predicho\"]\n",
    "\n",
    "    fig = px.scatter(\n",
    "        results_df,\n",
    "        x=\"length_url\",\n",
    "        y=\"length_hostname\",\n",
    "        color=\"Correcto\",\n",
    "        symbol=\"Real\",\n",
    "        color_discrete_map={True: \"green\", False: \"red\"},\n",
    "        title=\"Clasificación de KNN con Plotly\",\n",
    "        labels={\n",
    "            \"length_url\": \"Longitud del URL\",\n",
    "            \"length_hostname\": \"Longitud del Hostname\",\n",
    "        },\n",
    "    )\n",
    "\n",
    "    fig.update_traces(marker=dict(size=12))\n",
    "    fig.show()\n",
    "\n"
   ]
  },
  {
   "cell_type": "code",
   "execution_count": null,
   "metadata": {},
   "outputs": [],
   "source": [
    "dataset_path = \"./dataset_phishing.csv\"\n",
    "dataset = prepare_file(dataset_path)\n",
    "\n",
    "train, test = split_dataset(dataset)\n",
    "\n",
    "train_y = train.pop(\"status\")\n",
    "train_x = train\n",
    "test_y = test.pop(\"status\")\n",
    "test_x = test\n",
    "\n",
    "prediction = KNN(train_x, train_y, test_x, 3)\n",
    "\n",
    "metrics = Metrics(test_y.to_numpy(), np.array(prediction))\n",
    "print(f\"Precision metric: {metrics['precision']:.2f}\")\n",
    "print(f\"Recall metric: {metrics['recall']:.2f}\")\n",
    "print(f\"Accuracy metric: {metrics['accuracy']:.2f}\")\n",
    "\n",
    "Graphic(test_x, test_y.to_numpy(), np.array(prediction))"
   ]
  }
 ],
 "metadata": {
  "kernelspec": {
   "display_name": "Python 3",
   "language": "python",
   "name": "python3"
  },
  "language_info": {
   "codemirror_mode": {
    "name": "ipython",
    "version": 3
   },
   "file_extension": ".py",
   "mimetype": "text/x-python",
   "name": "python",
   "nbconvert_exporter": "python",
   "pygments_lexer": "ipython3",
   "version": "3.11.9"
  }
 },
 "nbformat": 4,
 "nbformat_minor": 2
}
